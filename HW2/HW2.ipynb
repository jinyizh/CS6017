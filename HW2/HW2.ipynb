{
 "cells": [
  {
   "attachments": {},
   "cell_type": "markdown",
   "metadata": {},
   "source": [
    "# Homework 2\n",
    "*Jinyi Zhou | u1424752 | May 29*"
   ]
  },
  {
   "cell_type": "code",
   "execution_count": null,
   "metadata": {
    "collapsed": true
   },
   "outputs": [],
   "source": [
    "import pandas as pd\n",
    "import matplotlib.pyplot as plt\n",
    "import numpy as np\n",
    "from statsmodels.stats.proportion import proportions_ztest\n",
    "import statsmodels.api as sm\n",
    "import statsmodels.formula.api as smf\n",
    "import seaborn as sb"
   ]
  },
  {
   "attachments": {},
   "cell_type": "markdown",
   "metadata": {},
   "source": [
    "## Part 1: A/B Hypothesis Testing"
   ]
  },
  {
   "attachments": {},
   "cell_type": "markdown",
   "metadata": {},
   "source": [
    "*Null hypothesis: A is better than B.*"
   ]
  },
  {
   "cell_type": "code",
   "execution_count": null,
   "metadata": {},
   "outputs": [],
   "source": [
    "# significance 1%\n",
    "signif = 0.01\n",
    "sampleSize = 1000\n",
    "aSample = 500\n",
    "bSample = 550\n",
    "clicks = np.array([aSample, bSample])\n",
    "stat, pValue = proportions_ztest(count=clicks, nobs=sampleSize,  alternative='two-sided')\n",
    "print(stat)\n",
    "print(pValue)\n",
    "\n",
    "if pValue > signif:\n",
    "    print (\"Null hypothesis is incorrect. B is better than A.\")\n",
    "else:\n",
    "    print (\"Null hypothesis is correct. A is better than B.\")"
   ]
  },
  {
   "cell_type": "code",
   "execution_count": null,
   "metadata": {},
   "outputs": [],
   "source": [
    "# significance 5%\n",
    "signif = 0.05\n",
    "sampleSize = 1000\n",
    "aSample = 500\n",
    "bSample = 550\n",
    "clicks = np.array([aSample, bSample])\n",
    "stat, pValue = proportions_ztest(count=clicks, nobs=sampleSize,  alternative='two-sided')\n",
    "print(stat)\n",
    "print(pValue)\n",
    "\n",
    "if pValue > signif:\n",
    "    print (\"Null hypothesis is incorrect. B is better than A.\")\n",
    "else:\n",
    "    print (\"Null hypothesis is correct. A is better than B.\")"
   ]
  },
  {
   "attachments": {},
   "cell_type": "markdown",
   "metadata": {},
   "source": [
    "## Part 2: Regression of real estate data"
   ]
  },
  {
   "attachments": {},
   "cell_type": "markdown",
   "metadata": {},
   "source": [
    "*Import and clean the data:*"
   ]
  },
  {
   "cell_type": "code",
   "execution_count": null,
   "metadata": {
    "scrolled": true
   },
   "outputs": [],
   "source": [
    "data1 = pd.read_csv(\"realEstate1.csv\")\n",
    "data2 = pd.read_csv(\"realEstate2.csv\")\n",
    "data = [data1, data2]\n",
    "data = pd.concat(data, ignore_index=True)\n",
    "data = data[['Acres', 'Deck', 'GaragCap', 'Latitude', 'Longitude', 'LstPrice', 'Patio', 'PkgSpacs', 'PropType', 'SoldPrice', 'Taxes', 'TotBed', 'TotBth', 'TotSqf', 'YearBlt']]\n",
    "data = data[data[\"LstPrice\"] > 200000]\n",
    "data = data[data[\"LstPrice\"] < 1000000]\n",
    "data.TotSqf = data.TotSqf.map(lambda x: int(x.replace(\",\", '')))\n",
    "data = data[data.Longitude < 0] # removing\n",
    "data = data[data.Taxes < 1000000] # as above\n",
    "\n",
    "propertyTypes = data[\"PropType\"]\n",
    "data = pd.get_dummies(data)\n",
    "data.reset_index(inplace=True, drop=True)\n",
    "data\n"
   ]
  },
  {
   "attachments": {},
   "cell_type": "markdown",
   "metadata": {},
   "source": [
    "*Exploratory data analysis:*\n",
    "\n",
    "*From the above results, we can see that there are 259 data and 14 variables. After removing the unreasonable values, the values are now reasonable.*"
   ]
  },
  {
   "cell_type": "code",
   "execution_count": null,
   "metadata": {},
   "outputs": [],
   "source": [
    "data.describe()"
   ]
  },
  {
   "cell_type": "code",
   "execution_count": null,
   "metadata": {},
   "outputs": [],
   "source": [
    "propertyTypes.value_counts().plot.bar()"
   ]
  },
  {
   "cell_type": "code",
   "execution_count": null,
   "metadata": {},
   "outputs": [],
   "source": [
    "corr = data[data.columns[:-3]].corr() # can't convert, omit\n",
    "\n",
    "heatmap = plt.pcolor(corr, vmin=-1, vmax=1, cmap=plt.cm.bwr)\n",
    "plt.colorbar(heatmap)\n",
    "plt.xticks(range(len(corr.columns)), corr.columns, rotation=90);\n",
    "plt.yticks(range(len(corr.columns)), corr.columns);"
   ]
  },
  {
   "cell_type": "code",
   "execution_count": null,
   "metadata": {},
   "outputs": [],
   "source": [
    "pd.plotting.scatter_matrix(data[ ['Acres', 'LstPrice', 'SoldPrice', 'Taxes', 'TotBed', 'TotBth', 'TotSqf', 'YearBlt']], figsize=(8, 8))\n",
    "plt.show()"
   ]
  },
  {
   "attachments": {},
   "cell_type": "markdown",
   "metadata": {},
   "source": [
    "*Findings: Sold prices, list prices and taxes are very correlated. When the listing price goes up, all the other columns like tax also go up.*"
   ]
  },
  {
   "attachments": {},
   "cell_type": "markdown",
   "metadata": {},
   "source": [
    "### Task 4: Geospatial Plot"
   ]
  },
  {
   "cell_type": "code",
   "execution_count": null,
   "metadata": {},
   "outputs": [],
   "source": [
    "data.plot.scatter(x=\"Latitude\", y=\"Longitude\", c=\"SoldPrice\", cmap='bwr')"
   ]
  },
  {
   "attachments": {},
   "cell_type": "markdown",
   "metadata": {},
   "source": [
    "*The prices increase when it's more North and East. The prices go down when it's far away from the North and East.*"
   ]
  },
  {
   "attachments": {},
   "cell_type": "markdown",
   "metadata": {},
   "source": [
    "### Task 5: Simple Linear Regression"
   ]
  },
  {
   "cell_type": "code",
   "execution_count": null,
   "metadata": {},
   "outputs": [],
   "source": [
    "regression = smf.ols('SoldPrice ~ LstPrice', data=data).fit()\n",
    "print(regression.summary())"
   ]
  },
  {
   "cell_type": "code",
   "execution_count": null,
   "metadata": {},
   "outputs": [],
   "source": [
    "sfReg = smf.ols('SoldPrice ~ TotSqf', data=data).fit()\n",
    "print(sfReg.summary())"
   ]
  },
  {
   "cell_type": "code",
   "execution_count": null,
   "metadata": {},
   "outputs": [],
   "source": [
    "yearReg = smf.ols('SoldPrice ~ YearBlt', data=data).fit()\n",
    "print(yearReg.summary())"
   ]
  },
  {
   "cell_type": "code",
   "execution_count": null,
   "metadata": {},
   "outputs": [],
   "source": [
    "data.head()"
   ]
  },
  {
   "cell_type": "code",
   "execution_count": null,
   "metadata": {},
   "outputs": [],
   "source": [
    "sb.regplot(x='LstPrice', y='SoldPrice', data=data)"
   ]
  },
  {
   "cell_type": "code",
   "execution_count": null,
   "metadata": {},
   "outputs": [],
   "source": [
    "sb.regplot(x='TotSqf', y='SoldPrice', data=data)"
   ]
  },
  {
   "cell_type": "code",
   "execution_count": null,
   "metadata": {},
   "outputs": [],
   "source": [
    "sb.regplot(x='YearBlt', y='SoldPrice', data=data)"
   ]
  },
  {
   "attachments": {},
   "cell_type": "markdown",
   "metadata": {},
   "source": [
    "### Task 6: Multilinear Regression"
   ]
  },
  {
   "cell_type": "code",
   "execution_count": null,
   "metadata": {},
   "outputs": [],
   "source": [
    "multi_regression = smf.ols(formula=\"SoldPrice ~ Taxes + TotSqf + Acres + GaragCap\", data=data).fit()\n",
    "multi_regression.summary()"
   ]
  },
  {
   "cell_type": "code",
   "execution_count": null,
   "metadata": {},
   "outputs": [],
   "source": [
    "param = dict(multi_regression.params)\n",
    "print(\"R2:\", multi_regression.rsquared)"
   ]
  },
  {
   "attachments": {},
   "cell_type": "markdown",
   "metadata": {},
   "source": [
    "\n",
    "- Often the price per square foot for a house is advertised. Is this what the coefficient for TotSqf is measuring? Provide an interpretation for the coefficient for TotSqf.\n"
   ]
  },
  {
   "cell_type": "code",
   "execution_count": null,
   "metadata": {},
   "outputs": [],
   "source": [
    "print(param['TotSqf'])"
   ]
  },
  {
   "attachments": {},
   "cell_type": "markdown",
   "metadata": {},
   "source": [
    "- Estimate the value that each Garage space adds to a house."
   ]
  },
  {
   "cell_type": "code",
   "execution_count": null,
   "metadata": {},
   "outputs": [],
   "source": [
    "print(param['GaragCap'])"
   ]
  },
  {
   "attachments": {},
   "cell_type": "markdown",
   "metadata": {},
   "source": [
    "- Does latitude or longitude have an impact on house price? Explain.\n",
    "\n",
    "*I think longitude does affect the price to some extent.*"
   ]
  },
  {
   "attachments": {},
   "cell_type": "markdown",
   "metadata": {},
   "source": [
    "- If we wanted to start a 'house flipping' company, we'd have to be able to do a better job of predicting the sold price than the list price does. How does your model compare?\n",
    "\n",
    "*It does a worse job based on the model.*"
   ]
  },
  {
   "attachments": {},
   "cell_type": "markdown",
   "metadata": {},
   "source": [
    "### Task 7: Incorporating a Categorical Variable"
   ]
  },
  {
   "cell_type": "code",
   "execution_count": null,
   "metadata": {},
   "outputs": [],
   "source": [
    "color_dict = {'Single Family': 'red', 'Condo': 'blue', 'Townhouse': 'green'}\n",
    "PropType_Condo = data.PropType_Condo\n",
    "plt.figure(figsize=(8, 8))\n",
    "scatter = plt.scatter(y=data.TotSqf, x=data.SoldPrice, c=PropType_Condo, s=10)\n",
    "plt.xlabel('Sold Price')\n",
    "plt.ylabel('Total Sqft')\n",
    "prop_names = ['Condo', 'Single Family', 'Townhouse']\n",
    "plt.legend(handles=scatter.legend_elements()[0], labels=prop_names, title=\"Property Type\")"
   ]
  }
 ],
 "metadata": {
  "kernelspec": {
   "display_name": "Python 3",
   "language": "python",
   "name": "python3"
  },
  "language_info": {
   "codemirror_mode": {
    "name": "ipython",
    "version": 3
   },
   "file_extension": ".py",
   "mimetype": "text/x-python",
   "name": "python",
   "nbconvert_exporter": "python",
   "pygments_lexer": "ipython3",
   "version": "3.11.3"
  }
 },
 "nbformat": 4,
 "nbformat_minor": 2
}
