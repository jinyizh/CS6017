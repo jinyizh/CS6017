{
 "cells": [
  {
   "attachments": {},
   "cell_type": "markdown",
   "metadata": {},
   "source": [
    "# Homework 1\n",
    "*Jinyi Zhou | u1424752 | May 22*"
   ]
  },
  {
   "attachments": {},
   "cell_type": "markdown",
   "metadata": {},
   "source": [
    "## Part 1: Python/Numpy Warmup"
   ]
  },
  {
   "cell_type": "code",
   "execution_count": null,
   "metadata": {},
   "outputs": [],
   "source": [
    "import numpy as np\n",
    "import pandas as pd\n",
    "import matplotlib.pyplot as plt\n",
    "import math\n",
    "from scipy.stats import norm\n",
    "# import statistics"
   ]
  },
  {
   "attachments": {},
   "cell_type": "markdown",
   "metadata": {},
   "source": [
    "Create an array of 100 random numbers using the Numpy rand function."
   ]
  },
  {
   "cell_type": "code",
   "execution_count": null,
   "metadata": {},
   "outputs": [],
   "source": [
    "array = [np.random.random() for i in range(100)]\n",
    "print(array)"
   ]
  },
  {
   "attachments": {},
   "cell_type": "markdown",
   "metadata": {},
   "source": [
    "Write functions to compute\n",
    "\n",
    "a) the mean, \n",
    "\n",
    "and \n",
    "\n",
    "b) standard deviation of a Numpy array of data."
   ]
  },
  {
   "cell_type": "code",
   "execution_count": null,
   "metadata": {},
   "outputs": [],
   "source": [
    "# function for computing the mean\n",
    "def cal_mean(arr):\n",
    "    sum = 0.0 # float\n",
    "    for i in range(0, len(arr)):\n",
    "        sum += arr[i]\n",
    "    return sum / len(arr)\n",
    "# test the function\n",
    "cal_mean(array)"
   ]
  },
  {
   "cell_type": "code",
   "execution_count": null,
   "metadata": {},
   "outputs": [],
   "source": [
    "# function for computing the standard deviation\n",
    "def cal_sd(arr):\n",
    "    sum = 0.0\n",
    "    mean = cal_mean(arr)\n",
    "    for i in range(0, len(arr)):\n",
    "        sum += (arr[i] - mean) ** 2\n",
    "    return math.sqrt(sum / len(arr))\n",
    "# test the function\n",
    "cal_sd(array)"
   ]
  },
  {
   "attachments": {},
   "cell_type": "markdown",
   "metadata": {},
   "source": [
    "Verify that your mean/std deviation functions work correctly."
   ]
  },
  {
   "cell_type": "code",
   "execution_count": null,
   "metadata": {},
   "outputs": [],
   "source": [
    "# check cal_mean\n",
    "print(cal_mean(array))\n",
    "print(np.mean(array))\n",
    "# check cal_sd\n",
    "print(cal_sd(array))\n",
    "print(np.std(array))"
   ]
  },
  {
   "attachments": {},
   "cell_type": "markdown",
   "metadata": {},
   "source": [
    "*From the results, we can verify that the custom cal_mean() and cal_sd() function work correctly.*"
   ]
  },
  {
   "attachments": {},
   "cell_type": "markdown",
   "metadata": {},
   "source": [
    "What happens (to the mean/std dev) when you increase the number of random numbers from 100 to 100000?"
   ]
  },
  {
   "cell_type": "code",
   "execution_count": null,
   "metadata": {},
   "outputs": [],
   "source": [
    "array = [np.random.random() for i in range(100000)]\n",
    "# check cal_mean\n",
    "print(cal_mean(array))\n",
    "print(np.mean(array))\n",
    "# check cal_sd\n",
    "print(cal_sd(array))\n",
    "print(np.std(array))"
   ]
  },
  {
   "attachments": {},
   "cell_type": "markdown",
   "metadata": {},
   "source": [
    "*It turns out that, when the length of the random array increases, there are differences appear between the custom functions and the built-in functions in numpy. Also, the mean and standard deviation increase.*"
   ]
  },
  {
   "attachments": {},
   "cell_type": "markdown",
   "metadata": {},
   "source": [
    "Now use ``scipy.stats.norm`` to sample from the normal (gaussian) distribution to create an array of data (10000 values). Compute the mean, and standard deviation of your set of samples using your functions, and with the built in numpy methods. Verify you get the expected results (you know what these values should be if you sample from a normal distribution). \n",
    "\n",
    "What does the results of the mean/std dev of this data tell you about Scipy's norm's rvs function?"
   ]
  },
  {
   "cell_type": "code",
   "execution_count": null,
   "metadata": {},
   "outputs": [],
   "source": [
    "array = np.array(norm.rvs(size=10000))\n",
    "print(cal_mean(array))\n",
    "print(np.mean(array))\n",
    "print(cal_sd(array))\n",
    "print(np.std(array))"
   ]
  },
  {
   "attachments": {},
   "cell_type": "markdown",
   "metadata": {},
   "source": [
    "*We expect the mean to be 0 and standard deviation to be 1 since it's normal distribution. As the results shown, Scipy's norm's rvs function works correctly.*"
   ]
  },
  {
   "attachments": {},
   "cell_type": "markdown",
   "metadata": {},
   "source": [
    "Plot a histogram of your samples (using the pyplot hist function). Experiment with using 10, 20, 40 bins."
   ]
  },
  {
   "cell_type": "code",
   "execution_count": null,
   "metadata": {},
   "outputs": [],
   "source": [
    "mu = cal_mean(array)\n",
    "sigma = cal_sd(array)\n",
    "x = np.arange(mu - 4 * sigma, mu + 4 * sigma)\n",
    "pdf = norm.pdf(x, loc = mu, scale = sigma)"
   ]
  },
  {
   "cell_type": "code",
   "execution_count": null,
   "metadata": {},
   "outputs": [],
   "source": [
    "# 10 bins\n",
    "plt.title(\"Normal Distribution Array (size: 10000)\")\n",
    "plt.hist(array, bins=10, density=True)\n",
    "plt.plot(x, pdf, linewidth=3, color='k')\n",
    "plt.show()"
   ]
  },
  {
   "cell_type": "code",
   "execution_count": null,
   "metadata": {},
   "outputs": [],
   "source": [
    "# 20 bins\n",
    "plt.title(\"Normal Distribution Array (size: 10000)\")\n",
    "plt.hist(array, bins=20, density=True)\n",
    "plt.plot(x, pdf, linewidth=3, color='k')\n",
    "plt.show()"
   ]
  },
  {
   "cell_type": "code",
   "execution_count": null,
   "metadata": {},
   "outputs": [],
   "source": [
    "# 40 bins\n",
    "plt.title(\"Normal Distribution Array (size: 10000)\")\n",
    "plt.hist(array, bins=40, density=True)\n",
    "plt.plot(x, pdf, linewidth=3, color='k')\n",
    "plt.show()"
   ]
  },
  {
   "attachments": {},
   "cell_type": "markdown",
   "metadata": {},
   "source": [
    "## Part 2: Data Exploration/Analysis"
   ]
  },
  {
   "attachments": {},
   "cell_type": "markdown",
   "metadata": {},
   "source": [
    "Grab a year's worth of hourly SLC PM2.5 data in CSV form. Save the csv file locally for ease of access.\n",
    "\n",
    "Pick one of the monitoring stations from the dataset and perform your analysis from the readings from that station."
   ]
  },
  {
   "cell_type": "code",
   "execution_count": null,
   "metadata": {},
   "outputs": [],
   "source": [
    "# Pick CV-MC monitoring station\n",
    "data = pd.read_csv(\"2021-PM2.5.csv\", usecols=['Date','CV-MC'], parse_dates=['Date'])\n",
    "data.head()"
   ]
  },
  {
   "attachments": {},
   "cell_type": "markdown",
   "metadata": {},
   "source": [
    "*Pick CV-MC monitoring station and perform analysis.*"
   ]
  },
  {
   "cell_type": "code",
   "execution_count": null,
   "metadata": {},
   "outputs": [],
   "source": [
    "cv_mc_data = data[[\"Date\", \"CV-MC\"]]\n",
    "cv_mc_data.head()"
   ]
  },
  {
   "cell_type": "code",
   "execution_count": null,
   "metadata": {},
   "outputs": [],
   "source": [
    "# perform analysis\n",
    "print(np.mean(data[\"CV-MC\"]))\n",
    "print(np.std(data[\"CV-MC\"]))"
   ]
  },
  {
   "attachments": {},
   "cell_type": "markdown",
   "metadata": {},
   "source": [
    "Plot the readings from that station over the course of a year."
   ]
  },
  {
   "cell_type": "code",
   "execution_count": null,
   "metadata": {},
   "outputs": [],
   "source": [
    "data.index = pd.to_datetime(cv_mc_data.Date) # change index (x-axis) to date\n",
    "plt.style.use('ggplot')\n",
    "plot = data[[\"CV-MC\"]].plot(kind=\"line\")\n",
    "plot.set_ylabel(\"PM2.5 Level\")\n",
    "plt.show()"
   ]
  },
  {
   "attachments": {},
   "cell_type": "markdown",
   "metadata": {},
   "source": [
    "We want to explore the variation of pollution levels over time, looking at 2 different timescales. "
   ]
  },
  {
   "attachments": {},
   "cell_type": "markdown",
   "metadata": {},
   "source": [
    "Plot the mean pm2.5 level for each month using a bar chart. Note any insights you can gain from this visualization."
   ]
  },
  {
   "cell_type": "code",
   "execution_count": null,
   "metadata": {},
   "outputs": [],
   "source": [
    "month_data = data.groupby(pd.Grouper(key='Date',axis=0, freq='M')).mean()\n",
    "# print(monthlyData)\n",
    "month_plot = month_data.plot.bar()\n",
    "month_plot.set_ylabel(\"PM2.5 Level\")\n",
    "months = ['Jan', 'Feb', 'Mar', 'Apr', 'May', 'Jun', 'Jul', 'Aug', 'Sep', 'Oct', 'Nov', 'Dec']\n",
    "month_plot.set_xticklabels(months)"
   ]
  },
  {
   "attachments": {},
   "cell_type": "markdown",
   "metadata": {},
   "source": [
    "*From the monthly bar chart, we can see that the PM2.5 level is higher in summer (especially August) for CV-MC station.*"
   ]
  },
  {
   "attachments": {},
   "cell_type": "markdown",
   "metadata": {},
   "source": [
    "Next, group the data by time of day (by hour), and plot the mean pollution level for each hour. What insights can you draw from this view of the data?"
   ]
  },
  {
   "cell_type": "code",
   "execution_count": null,
   "metadata": {},
   "outputs": [],
   "source": [
    "times = pd.DatetimeIndex(pd.to_datetime(data['Date']))\n",
    "hour_data = data.groupby([times.hour]).mean()\n",
    "hour_plot = hour_data.plot.bar(x='Date', y='CV-MC')\n",
    "hour_plot.set_xlabel( \"Hour of the Day\" )\n",
    "hour_plot.set_ylabel(\"PM2.5 Level\")\n",
    "hours = ['00', '01', '02', '03', '04', '05', '06', '07', '08', '09', '10', '11', '12', '13', '14', '15', '16', '17', '18', '19', '20', '21', '22', '23']\n",
    "hour_plot.set_xticklabels(hours)"
   ]
  },
  {
   "attachments": {},
   "cell_type": "markdown",
   "metadata": {},
   "source": [
    "*As we can see from the bar chart, the PM2.5 level is usually lower in the afternoon, while usually higher during night time and early morning. It's probably related to electricity usage.*"
   ]
  },
  {
   "attachments": {},
   "cell_type": "markdown",
   "metadata": {},
   "source": [
    "The mean only gives us a very coarse view of the monthly/hourly data. Use \"Box and Whisker\" plots of the monthly and hourly data groupings to provide a more complete view of the data. Does this view provide any additional insights?"
   ]
  },
  {
   "cell_type": "code",
   "execution_count": null,
   "metadata": {},
   "outputs": [],
   "source": [
    "# monthly data\n",
    "month_data = data.groupby([data['Date'].dt.month])\n",
    "month_plot = month_data.boxplot(subplots=False)\n",
    "month_plot.set_xticklabels(months)"
   ]
  },
  {
   "cell_type": "code",
   "execution_count": null,
   "metadata": {},
   "outputs": [],
   "source": [
    "# hourly data\n",
    "hour_data = data.groupby([data['Date'].dt.hour])\n",
    "hour_plot = hour_data.boxplot(subplots=False)\n",
    "hour_plot.set_xticklabels(hours)"
   ]
  },
  {
   "attachments": {},
   "cell_type": "markdown",
   "metadata": {},
   "source": [
    "*In the above graphs outliers are presented. It means that the average PM2.5 level should actually be slightly lower.*"
   ]
  }
 ],
 "metadata": {
  "kernelspec": {
   "display_name": "Python 3",
   "language": "python",
   "name": "python3"
  },
  "language_info": {
   "codemirror_mode": {
    "name": "ipython",
    "version": 3
   },
   "file_extension": ".py",
   "mimetype": "text/x-python",
   "name": "python",
   "nbconvert_exporter": "python",
   "pygments_lexer": "ipython3",
   "version": "3.11.3"
  },
  "orig_nbformat": 4
 },
 "nbformat": 4,
 "nbformat_minor": 2
}
